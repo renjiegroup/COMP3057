{
 "cells": [
  {
   "cell_type": "markdown",
   "metadata": {},
   "source": [
    "# PyTorch Basic Operations\n",
    "This notebook introduces the **fundamental operations** in PyTorch. We will focus purely on tensor creation, manipulation, and inspection — no model training involved."
   ]
  },
  {
   "cell_type": "markdown",
   "metadata": {},
   "source": [
    "## 1. Creating Tensors\n",
    "In this section, we will create tensors using various PyTorch functions. We'll use:\n",
    "- `torch.tensor()` to create from lists\n",
    "- `torch.zeros()` to create a tensor filled with zeros\n",
    "- `torch.ones()` to create a tensor filled with ones\n",
    "- `torch.rand()` to create a tensor with random numbers"
   ]
  },
  {
   "cell_type": "code",
   "execution_count": null,
   "metadata": {},
   "outputs": [],
   "source": [
    "import torch\n",
    "\n"
   ]
  },
  {
   "cell_type": "markdown",
   "metadata": {},
   "source": [
    "## 2. Viewing Tensor Attributes\n",
    "Every tensor has attributes:\n",
    "- `.shape` — dimensions of the tensor\n",
    "- `.dtype` — data type\n",
    "- `.device` — where the tensor is stored (CPU/GPU)"
   ]
  },
  {
   "cell_type": "code",
   "execution_count": null,
   "metadata": {},
   "outputs": [],
   "source": []
  },
  {
   "cell_type": "markdown",
   "metadata": {},
   "source": [
    "## 3. Basic Operations\n",
    "We can perform mathematical operations on tensors:\n",
    "- Addition: `+` or `torch.add()`\n",
    "- Multiplication: `*` or `torch.mul()`\n",
    "- Matrix multiplication: `@` or `torch.matmul()`"
   ]
  },
  {
   "cell_type": "code",
   "execution_count": null,
   "metadata": {},
   "outputs": [],
   "source": []
  },
  {
   "cell_type": "markdown",
   "metadata": {},
   "source": [
    "## 4. Indexing & Slicing\n",
    "Tensors can be indexed like NumPy arrays:\n",
    "- Access a specific element\n",
    "- Slice rows and columns"
   ]
  },
  {
   "cell_type": "code",
   "execution_count": null,
   "metadata": {},
   "outputs": [],
   "source": []
  },
  {
   "cell_type": "markdown",
   "metadata": {},
   "source": [
    "## 5. Reshaping Tensors\n",
    "We can change the shape of a tensor without changing its data using:\n",
    "- `.view()`\n",
    "- `.reshape()`"
   ]
  },
  {
   "cell_type": "code",
   "execution_count": null,
   "metadata": {},
   "outputs": [],
   "source": []
  },
  {
   "cell_type": "markdown",
   "metadata": {},
   "source": [
    "## 6. Stacking Tensors\n",
    "We can join multiple tensors using:\n",
    "- `torch.stack()` — stacks along a new dimension\n",
    "- `torch.cat()` — concatenates along an existing dimension"
   ]
  },
  {
   "cell_type": "code",
   "execution_count": null,
   "metadata": {},
   "outputs": [],
   "source": []
  },
  {
   "cell_type": "markdown",
   "metadata": {},
   "source": [
    "## 7. Moving Tensors to GPU\n",
    "If a GPU is available, we can move tensors to it using `.to('cuda')`."
   ]
  },
  {
   "cell_type": "code",
   "execution_count": null,
   "metadata": {},
   "outputs": [],
   "source": []
  }
 ],
 "metadata": {
  "colab": {
   "name": "pytorch_basics_with_explanations.ipynb",
   "provenance": []
  },
  "kernelspec": {
   "display_name": "Python 3",
   "language": "python",
   "name": "python3"
  },
  "language_info": {
   "name": "python",
   "version": ""
  }
 },
 "nbformat": 4,
 "nbformat_minor": 0
}
