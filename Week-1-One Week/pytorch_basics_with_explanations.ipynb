{
 "cells": [
  {
   "cell_type": "markdown",
   "metadata": {},
   "source": [
    "# PyTorch Basic Operations\n",
    "This notebook introduces the **fundamental operations** in PyTorch. We will focus purely on tensor creation, manipulation, and inspection — no model training involved."
   ]
  },
  {
   "cell_type": "markdown",
   "metadata": {},
   "source": [
    "## 1. Creating Tensors\n",
    "In this section, we will create tensors using various PyTorch functions. We'll use:\n",
    "- `torch.tensor()` to create from lists\n",
    "- `torch.zeros()` to create a tensor filled with zeros\n",
    "- `torch.ones()` to create a tensor filled with ones\n",
    "- `torch.rand()` to create a tensor with random numbers"
   ]
  },
  {
   "cell_type": "code",
   "execution_count": null,
   "metadata": {},
   "outputs": [],
   "source": [
    "import torch\n",
    "\n",
    "# From list\n",
    "data_list = [[1, 2], [3, 4]]\n",
    "tensor_from_list = torch.tensor(data_list)\n",
    "\n",
    "# Zeros\n",
    "tensor_zeros = torch.zeros((2, 3))\n",
    "\n",
    "# Ones\n",
    "tensor_ones = torch.ones((2, 3))\n",
    "\n",
    "# Random\n",
    "tensor_random = torch.rand((2, 3))\n",
    "\n",
    "tensor_from_list, tensor_zeros, tensor_ones, tensor_random"
   ]
  },
  {
   "cell_type": "markdown",
   "metadata": {},
   "source": [
    "## 2. Viewing Tensor Attributes\n",
    "Every tensor has attributes:\n",
    "- `.shape` — dimensions of the tensor\n",
    "- `.dtype` — data type\n",
    "- `.device` — where the tensor is stored (CPU/GPU)"
   ]
  },
  {
   "cell_type": "code",
   "execution_count": null,
   "metadata": {},
   "outputs": [],
   "source": [
    "tensor = torch.rand((3, 4))\n",
    "print(\"Shape:\", tensor.shape)\n",
    "print(\"Data type:\", tensor.dtype)\n",
    "print(\"Device:\", tensor.device)"
   ]
  },
  {
   "cell_type": "markdown",
   "metadata": {},
   "source": [
    "## 3. Basic Operations\n",
    "We can perform mathematical operations on tensors:\n",
    "- Addition: `+` or `torch.add()`\n",
    "- Multiplication: `*` or `torch.mul()`\n",
    "- Matrix multiplication: `@` or `torch.matmul()`"
   ]
  },
  {
   "cell_type": "code",
   "execution_count": null,
   "metadata": {},
   "outputs": [],
   "source": [
    "a = torch.tensor([[1, 2], [3, 4]], dtype=torch.float32)\n",
    "b = torch.tensor([[5, 6], [7, 8]], dtype=torch.float32)\n",
    "\n",
    "add_result = a + b\n",
    "mul_result = a * b\n",
    "matmul_result = a @ b\n",
    "\n",
    "add_result, mul_result, matmul_result"
   ]
  },
  {
   "cell_type": "markdown",
   "metadata": {},
   "source": [
    "## 4. Indexing & Slicing\n",
    "Tensors can be indexed like NumPy arrays:\n",
    "- Access a specific element\n",
    "- Slice rows and columns"
   ]
  },
  {
   "cell_type": "code",
   "execution_count": null,
   "metadata": {},
   "outputs": [],
   "source": [
    "tensor = torch.arange(1, 13).reshape(3, 4)\n",
    "element = tensor[1, 2]  # Row 1, Col 2\n",
    "row = tensor[1, :]      # Second row\n",
    "col = tensor[:, 2]      # Third column\n",
    "\n",
    "tensor, element, row, col"
   ]
  },
  {
   "cell_type": "markdown",
   "metadata": {},
   "source": [
    "## 5. Reshaping Tensors\n",
    "We can change the shape of a tensor without changing its data using:\n",
    "- `.view()`\n",
    "- `.reshape()`"
   ]
  },
  {
   "cell_type": "code",
   "execution_count": null,
   "metadata": {},
   "outputs": [],
   "source": [
    "tensor = torch.arange(1, 13)\n",
    "reshaped = tensor.reshape(3, 4)\n",
    "reshaped"
   ]
  },
  {
   "cell_type": "markdown",
   "metadata": {},
   "source": [
    "## 6. Stacking Tensors\n",
    "We can join multiple tensors using:\n",
    "- `torch.stack()` — stacks along a new dimension\n",
    "- `torch.cat()` — concatenates along an existing dimension"
   ]
  },
  {
   "cell_type": "code",
   "execution_count": null,
   "metadata": {},
   "outputs": [],
   "source": [
    "t1 = torch.ones((2, 3))\n",
    "t2 = torch.zeros((2, 3))\n",
    "\n",
    "stacked = torch.stack([t1, t2], dim=0)\n",
    "concatenated = torch.cat([t1, t2], dim=0)\n",
    "\n",
    "stacked, concatenated"
   ]
  },
  {
   "cell_type": "markdown",
   "metadata": {},
   "source": [
    "## 7. Moving Tensors to GPU\n",
    "If a GPU is available, we can move tensors to it using `.to('cuda')`."
   ]
  },
  {
   "cell_type": "code",
   "execution_count": null,
   "metadata": {},
   "outputs": [],
   "source": [
    "if torch.cuda.is_available():\n",
    "    tensor_gpu = torch.rand((2, 3)).to('cuda')\n",
    "    print(\"Tensor on GPU:\", tensor_gpu)\n",
    "else:\n",
    "    print(\"CUDA is not available.\")"
   ]
  }
 ],
 "metadata": {
  "colab": {
   "name": "pytorch_basics_with_explanations.ipynb",
   "provenance": []
  },
  "kernelspec": {
   "display_name": "Python 3",
   "language": "python",
   "name": "python3"
  },
  "language_info": {
   "name": "python",
   "version": ""
  }
 },
 "nbformat": 4,
 "nbformat_minor": 0
}
